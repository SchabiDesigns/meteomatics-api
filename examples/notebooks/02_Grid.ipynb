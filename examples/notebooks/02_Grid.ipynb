{
 "cells": [
  {
   "cell_type": "markdown",
   "metadata": {},
   "source": [
    "# Grid"
   ]
  },
  {
   "cell_type": "markdown",
   "metadata": {},
   "source": [
    "First you have to import the meteomatics module and the datetime module"
   ]
  },
  {
   "cell_type": "code",
   "execution_count": 1,
   "metadata": {
    "tags": []
   },
   "outputs": [],
   "source": [
    "import datetime as dt\n",
    "import meteomatics.api as api\n",
    "\n",
    "from __future__ import print_function"
   ]
  },
  {
   "cell_type": "code",
   "execution_count": 2,
   "metadata": {},
   "outputs": [],
   "source": [
    "# Opening JSON file with my credentials\n",
    "import json\n",
    "\n",
    "creds = open('mycredentials.json')\n",
    "creds = json.load(creds)\n",
    "username = creds[\"username\"]\n",
    "password = creds[\"password\"]"
   ]
  },
  {
   "cell_type": "markdown",
   "metadata": {},
   "source": [
    "Input here the date and the time."
   ]
  },
  {
   "cell_type": "code",
   "execution_count": 3,
   "metadata": {},
   "outputs": [],
   "source": [
    "startdate_grid = dt.datetime.utcnow().replace(day=20, month=10, hour=8, minute=0, second=0, microsecond=0)"
   ]
  },
  {
   "cell_type": "code",
   "execution_count": 4,
   "metadata": {},
   "outputs": [],
   "source": [
    "res_lat = 0.1\n",
    "res_lon = 0.1"
   ]
  },
  {
   "cell_type": "markdown",
   "metadata": {},
   "source": [
    "Choose the parameter you want to get. You can only chose one parameter at a time. Check here which parameters are available: https://www.meteomatics.com/en/api/available-parameters/"
   ]
  },
  {
   "cell_type": "code",
   "execution_count": 5,
   "metadata": {},
   "outputs": [],
   "source": [
    "parameter_grid = 'wind_speed_10m:ms'"
   ]
  },
  {
   "cell_type": "markdown",
   "metadata": {},
   "source": [
    "Input here the limiting coordinates of the extract you want to look at. You can also change the resolution."
   ]
  },
  {
   "cell_type": "code",
   "execution_count": 6,
   "metadata": {},
   "outputs": [],
   "source": [
    "import numpy as np"
   ]
  },
  {
   "cell_type": "code",
   "execution_count": 7,
   "metadata": {},
   "outputs": [],
   "source": [
    "lat_N, lon_W   = np.round([47.21207676333821, 9.035582785038727],3)\n",
    "lat_S, lon_E = np.round([46.990487129183954, 9.52484466594188],3)"
   ]
  },
  {
   "cell_type": "code",
   "execution_count": 8,
   "metadata": {},
   "outputs": [
    {
     "name": "stdout",
     "output_type": "stream",
     "text": [
      "ostschweizerfachhochschule_wuersch\n"
     ]
    }
   ],
   "source": [
    "print(username)"
   ]
  },
  {
   "cell_type": "markdown",
   "metadata": {},
   "source": [
    "In the following, the request will start. If there is an error in the request as for example a wrong parameter or a date that doesn't exist, you get a message."
   ]
  },
  {
   "cell_type": "code",
   "execution_count": 12,
   "metadata": {
    "scrolled": true
   },
   "outputs": [
    {
     "name": "stdout",
     "output_type": "stream",
     "text": [
      "grid:\n",
      "Failed, the exception is Request with 15 coordinates in bin are not granted with this subscription type (e.g. trial). Number of coordinates for this account type is limited to 10. Please contact sales@meteomatics.com for an extended trial or an upgrade of your account.\n"
     ]
    }
   ],
   "source": [
    "print(\"grid:\")\n",
    "try:\n",
    "    df_grid = api.query_grid(startdate=startdate_grid, parameter_grid=parameter_grid, lat_N=lat_N, lon_W=lon_W, lat_S=lat_S, lon_E=lon_E, res_lat=res_lat, res_lon=res_lon,\n",
    "                             username=username, password=password)\n",
    "    print (df_grid.head())\n",
    "except Exception as e:\n",
    "    print(\"Failed, the exception is {}\".format(e))"
   ]
  },
  {
   "cell_type": "markdown",
   "metadata": {},
   "source": [
    "As output you get a pandas dataframe. The index consists of the latitude, the columns of the longitude.\n",
    "\n",
    "![02_grid_output](api_demo_images/02_grid_output.png)"
   ]
  },
  {
   "cell_type": "markdown",
   "metadata": {},
   "source": [
    "Now you can work on the data by using pandas commands. Here are some examples how you can access to the different datapoints."
   ]
  },
  {
   "cell_type": "code",
   "execution_count": 10,
   "metadata": {
    "tags": []
   },
   "outputs": [
    {
     "ename": "NameError",
     "evalue": "name 'df_grid' is not defined",
     "output_type": "error",
     "traceback": [
      "\u001b[1;31m---------------------------------------------------------------------------\u001b[0m",
      "\u001b[1;31mNameError\u001b[0m                                 Traceback (most recent call last)",
      "Cell \u001b[1;32mIn [10], line 1\u001b[0m\n\u001b[1;32m----> 1\u001b[0m maximum \u001b[39m=\u001b[39m df_grid\u001b[39m.\u001b[39mvalues\u001b[39m.\u001b[39mmax()\n\u001b[0;32m      2\u001b[0m minimum \u001b[39m=\u001b[39m df_grid\u001b[39m.\u001b[39mvalues\u001b[39m.\u001b[39mmin()\n\u001b[0;32m      3\u001b[0m mean \u001b[39m=\u001b[39m df_grid\u001b[39m.\u001b[39mvalues\u001b[39m.\u001b[39mmean()\n",
      "\u001b[1;31mNameError\u001b[0m: name 'df_grid' is not defined"
     ]
    }
   ],
   "source": [
    "maximum = df_grid.values.max()\n",
    "minimum = df_grid.values.min()\n",
    "mean = df_grid.values.mean()\n",
    "at_this_location = df_grid.loc[48.5, 3]\n",
    "at_this_longitude = df_grid.loc[48.5, :]\n",
    "at_this_latitude = df_grid.loc[:, 3]"
   ]
  }
 ],
 "metadata": {
  "kernelspec": {
   "display_name": "Python 3.10.6 ('meteomatics')",
   "language": "python",
   "name": "python3"
  },
  "language_info": {
   "codemirror_mode": {
    "name": "ipython",
    "version": 3
   },
   "file_extension": ".py",
   "mimetype": "text/x-python",
   "name": "python",
   "nbconvert_exporter": "python",
   "pygments_lexer": "ipython3",
   "version": "3.10.6"
  },
  "vscode": {
   "interpreter": {
    "hash": "100740bd4a2a78dcb51f93a5cbb25c4d3970863452ae11d0c7e8a1921504f522"
   }
  }
 },
 "nbformat": 4,
 "nbformat_minor": 4
}
