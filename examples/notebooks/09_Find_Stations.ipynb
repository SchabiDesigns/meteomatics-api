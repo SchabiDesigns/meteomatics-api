{
 "cells": [
  {
   "cell_type": "markdown",
   "metadata": {},
   "source": [
    "# Find Stations"
   ]
  },
  {
   "cell_type": "markdown",
   "metadata": {},
   "source": [
    "First you have to import the meteomatics module and the datetime module"
   ]
  },
  {
   "cell_type": "code",
   "execution_count": 27,
   "metadata": {},
   "outputs": [],
   "source": [
    "import datetime as dt\n",
    "import meteomatics.api as api\n",
    "\n",
    "from __future__ import print_function"
   ]
  },
  {
   "cell_type": "code",
   "execution_count": 28,
   "metadata": {},
   "outputs": [],
   "source": [
    "# Opening JSON file with my credentials\n",
    "import json\n",
    "\n",
    "creds = open('mycredentials.json')\n",
    "creds = json.load(creds)\n",
    "username = creds[\"username\"]\n",
    "password = creds[\"password\"]"
   ]
  },
  {
   "cell_type": "code",
   "execution_count": 29,
   "metadata": {},
   "outputs": [],
   "source": [
    "###Credentials:\n",
    "username = 'python-community'\n",
    "password = 'Umivipawe179'"
   ]
  },
  {
   "cell_type": "markdown",
   "metadata": {},
   "source": [
    "Input here a startdate, an enddate and the time interval, all as datetime-objects. The interval tells you, if you get the data in hourly steps, daily steps or every five minutes in between the startdate and the enddate. Make sure that the enddate is not in the future, because there are no station measurements from the future."
   ]
  },
  {
   "cell_type": "code",
   "execution_count": 30,
   "metadata": {},
   "outputs": [],
   "source": [
    "startdate_station_ts = dt.datetime.utcnow().replace(hour=0, minute=0, second=0, microsecond=0)-dt.timedelta(days=2)\n",
    "enddate_station_ts = startdate_station_ts + dt.timedelta(days=1)\n",
    "interval_station_ts = dt.timedelta(hours=1)"
   ]
  },
  {
   "cell_type": "markdown",
   "metadata": {},
   "source": [
    "Choose the parameters you want to get and put them into a list. Check here which parameters are available: https://www.meteomatics.com/en/api/available-parameters/"
   ]
  },
  {
   "cell_type": "code",
   "execution_count": 31,
   "metadata": {},
   "outputs": [],
   "source": [
    "parameters_station_ts = ['t_2m:C']"
   ]
  },
  {
   "cell_type": "markdown",
   "metadata": {},
   "source": [
    "Optional: Input here an elevation (height above sea level). It will look first for stations that are close to this height."
   ]
  },
  {
   "cell_type": "code",
   "execution_count": 32,
   "metadata": {},
   "outputs": [],
   "source": [
    "elevation = None"
   ]
  },
  {
   "cell_type": "markdown",
   "metadata": {},
   "source": [
    "Optional: Define here a location, from where you are looking for a station. \n",
    "There are different possibilities to define the location in this query:\n",
    "+ location = “lat,lon” ex: location = ‘47,8’\n",
    "+ location = “lat_max,lon_min_lat_min,lon_max” ex: location = ‘47,8_40,15’ (This covers an area from 40°N to 47°N and from 8°E to 15°E)\n",
    "+ location = ”predefined area” ex: location = ‘uk’\n",
    "\n",
    "Pay attention: In contrary to other queries, the coordinates have to be in the form of strings without spaces in between."
   ]
  },
  {
   "cell_type": "code",
   "execution_count": 38,
   "metadata": {
    "scrolled": true
   },
   "outputs": [],
   "source": [
    "location = '47.21088047509185,8.999690583582241_46.90356866152617,9.611075278937145'"
   ]
  },
  {
   "cell_type": "markdown",
   "metadata": {},
   "source": [
    "In the following, the request will start. If there is an error in the request as for example a wrong parameter or a date that doesn't exist, you get a message."
   ]
  },
  {
   "cell_type": "code",
   "execution_count": 39,
   "metadata": {},
   "outputs": [
    {
     "name": "stdout",
     "output_type": "stream",
     "text": [
      "find stations:\n",
      "  Station Category Station Type     ID Hash  WMO ID Alternative IDs  \\\n",
      "0            SYNOP         SYNO  1177494710   69900             VAD   \n",
      "1            SYNOP         SYNO  2880089697   66850             GLA   \n",
      "2            SYNOP         SYNO  4088031572   66860             RAG   \n",
      "3            SYNOP         SYNO  4103067262   66820             ELM   \n",
      "4            SYNOP         SYNA  1932528201   66850             GLA   \n",
      "\n",
      "        Name Elevation            Start Date              End Date  \\\n",
      "0      Vaduz      457m  2017-02-28T23:00:00Z  2022-11-10T18:00:00Z   \n",
      "1     Glarus      517m  2017-02-28T23:00:00Z  2022-11-10T18:00:00Z   \n",
      "2  Bad Ragaz      497m  2017-02-28T23:00:00Z  2022-11-10T18:00:00Z   \n",
      "3        Elm      958m  2017-02-28T23:00:00Z  2022-11-10T18:00:00Z   \n",
      "4     Glarus      517m  2017-01-01T00:00:00Z  2022-11-10T17:00:00Z   \n",
      "\n",
      "   Horizontal Distance  Vertical Distance  Effective Distance      lat  \\\n",
      "0                 -999               -999                -999  47.1275   \n",
      "1                 -999               -999                -999  47.0346   \n",
      "2                 -999               -999                -999  47.0166   \n",
      "3                 -999               -999                -999  46.9237   \n",
      "4                 -999               -999                -999  47.0346   \n",
      "\n",
      "       lon  \n",
      "0  9.51758  \n",
      "1  9.06696  \n",
      "2  9.50259  \n",
      "3  9.17535  \n",
      "4  9.06696  \n"
     ]
    },
    {
     "name": "stderr",
     "output_type": "stream",
     "text": [
      "a:\\Miniconda\\envs\\meteomatics\\lib\\site-packages\\meteomatics\\api.py:163: FutureWarning: In a future version of pandas all arguments of DataFrame.drop except for the argument 'labels' will be keyword-only.\n",
      "  sl.drop('Location Lat,Lon', 1, inplace=True)\n"
     ]
    }
   ],
   "source": [
    "print(\"find stations:\")\n",
    "try:\n",
    "    met = api.query_station_list(username, password, startdate=startdate_station_ts, enddate=enddate_station_ts,\n",
    "                                 parameters=parameters_station_ts, location=location, elevation=elevation)\n",
    "    print(met.head())\n",
    "except Exception as e:\n",
    "    print(\"Failed, the exception is {}\".format(e))"
   ]
  },
  {
   "cell_type": "markdown",
   "metadata": {},
   "source": [
    "As output you get a pandas dataframe filled with stations. The best matching stations to your request appear on top.\n",
    "\n",
    "![09_find_stations_output](api_demo_images/09_find_stations_output.png)"
   ]
  },
  {
   "cell_type": "markdown",
   "metadata": {},
   "source": [
    "Now you can work on the data by using pandas commands. Here are some examples how you can access to the different datapoints."
   ]
  },
  {
   "cell_type": "code",
   "execution_count": 40,
   "metadata": {},
   "outputs": [
    {
     "data": {
      "text/html": [
       "<div>\n",
       "<style scoped>\n",
       "    .dataframe tbody tr th:only-of-type {\n",
       "        vertical-align: middle;\n",
       "    }\n",
       "\n",
       "    .dataframe tbody tr th {\n",
       "        vertical-align: top;\n",
       "    }\n",
       "\n",
       "    .dataframe thead th {\n",
       "        text-align: right;\n",
       "    }\n",
       "</style>\n",
       "<table border=\"1\" class=\"dataframe\">\n",
       "  <thead>\n",
       "    <tr style=\"text-align: right;\">\n",
       "      <th></th>\n",
       "      <th>Station Category</th>\n",
       "      <th>Station Type</th>\n",
       "      <th>ID Hash</th>\n",
       "      <th>WMO ID</th>\n",
       "      <th>Alternative IDs</th>\n",
       "      <th>Name</th>\n",
       "      <th>Elevation</th>\n",
       "      <th>Start Date</th>\n",
       "      <th>End Date</th>\n",
       "      <th>Horizontal Distance</th>\n",
       "      <th>Vertical Distance</th>\n",
       "      <th>Effective Distance</th>\n",
       "      <th>lat</th>\n",
       "      <th>lon</th>\n",
       "    </tr>\n",
       "  </thead>\n",
       "  <tbody>\n",
       "    <tr>\n",
       "      <th>0</th>\n",
       "      <td>SYNOP</td>\n",
       "      <td>SYNO</td>\n",
       "      <td>1177494710</td>\n",
       "      <td>69900</td>\n",
       "      <td>VAD</td>\n",
       "      <td>Vaduz</td>\n",
       "      <td>457m</td>\n",
       "      <td>2017-02-28T23:00:00Z</td>\n",
       "      <td>2022-11-10T18:00:00Z</td>\n",
       "      <td>-999</td>\n",
       "      <td>-999</td>\n",
       "      <td>-999</td>\n",
       "      <td>47.1275</td>\n",
       "      <td>9.51758</td>\n",
       "    </tr>\n",
       "    <tr>\n",
       "      <th>1</th>\n",
       "      <td>SYNOP</td>\n",
       "      <td>SYNO</td>\n",
       "      <td>2880089697</td>\n",
       "      <td>66850</td>\n",
       "      <td>GLA</td>\n",
       "      <td>Glarus</td>\n",
       "      <td>517m</td>\n",
       "      <td>2017-02-28T23:00:00Z</td>\n",
       "      <td>2022-11-10T18:00:00Z</td>\n",
       "      <td>-999</td>\n",
       "      <td>-999</td>\n",
       "      <td>-999</td>\n",
       "      <td>47.0346</td>\n",
       "      <td>9.06696</td>\n",
       "    </tr>\n",
       "    <tr>\n",
       "      <th>2</th>\n",
       "      <td>SYNOP</td>\n",
       "      <td>SYNO</td>\n",
       "      <td>4088031572</td>\n",
       "      <td>66860</td>\n",
       "      <td>RAG</td>\n",
       "      <td>Bad Ragaz</td>\n",
       "      <td>497m</td>\n",
       "      <td>2017-02-28T23:00:00Z</td>\n",
       "      <td>2022-11-10T18:00:00Z</td>\n",
       "      <td>-999</td>\n",
       "      <td>-999</td>\n",
       "      <td>-999</td>\n",
       "      <td>47.0166</td>\n",
       "      <td>9.50259</td>\n",
       "    </tr>\n",
       "    <tr>\n",
       "      <th>3</th>\n",
       "      <td>SYNOP</td>\n",
       "      <td>SYNO</td>\n",
       "      <td>4103067262</td>\n",
       "      <td>66820</td>\n",
       "      <td>ELM</td>\n",
       "      <td>Elm</td>\n",
       "      <td>958m</td>\n",
       "      <td>2017-02-28T23:00:00Z</td>\n",
       "      <td>2022-11-10T18:00:00Z</td>\n",
       "      <td>-999</td>\n",
       "      <td>-999</td>\n",
       "      <td>-999</td>\n",
       "      <td>46.9237</td>\n",
       "      <td>9.17535</td>\n",
       "    </tr>\n",
       "    <tr>\n",
       "      <th>4</th>\n",
       "      <td>SYNOP</td>\n",
       "      <td>SYNA</td>\n",
       "      <td>1932528201</td>\n",
       "      <td>66850</td>\n",
       "      <td>GLA</td>\n",
       "      <td>Glarus</td>\n",
       "      <td>517m</td>\n",
       "      <td>2017-01-01T00:00:00Z</td>\n",
       "      <td>2022-11-10T17:00:00Z</td>\n",
       "      <td>-999</td>\n",
       "      <td>-999</td>\n",
       "      <td>-999</td>\n",
       "      <td>47.0346</td>\n",
       "      <td>9.06696</td>\n",
       "    </tr>\n",
       "    <tr>\n",
       "      <th>5</th>\n",
       "      <td>SYNOP</td>\n",
       "      <td>SYNO</td>\n",
       "      <td>2030955241</td>\n",
       "      <td>69900</td>\n",
       "      <td>VAD</td>\n",
       "      <td>Vaduz</td>\n",
       "      <td>457m</td>\n",
       "      <td>2017-01-01T00:00:00Z</td>\n",
       "      <td>2022-11-10T17:00:00Z</td>\n",
       "      <td>-999</td>\n",
       "      <td>-999</td>\n",
       "      <td>-999</td>\n",
       "      <td>47.1275</td>\n",
       "      <td>9.51758</td>\n",
       "    </tr>\n",
       "  </tbody>\n",
       "</table>\n",
       "</div>"
      ],
      "text/plain": [
       "  Station Category Station Type     ID Hash  WMO ID Alternative IDs  \\\n",
       "0            SYNOP         SYNO  1177494710   69900             VAD   \n",
       "1            SYNOP         SYNO  2880089697   66850             GLA   \n",
       "2            SYNOP         SYNO  4088031572   66860             RAG   \n",
       "3            SYNOP         SYNO  4103067262   66820             ELM   \n",
       "4            SYNOP         SYNA  1932528201   66850             GLA   \n",
       "5            SYNOP         SYNO  2030955241   69900             VAD   \n",
       "\n",
       "        Name Elevation            Start Date              End Date  \\\n",
       "0      Vaduz      457m  2017-02-28T23:00:00Z  2022-11-10T18:00:00Z   \n",
       "1     Glarus      517m  2017-02-28T23:00:00Z  2022-11-10T18:00:00Z   \n",
       "2  Bad Ragaz      497m  2017-02-28T23:00:00Z  2022-11-10T18:00:00Z   \n",
       "3        Elm      958m  2017-02-28T23:00:00Z  2022-11-10T18:00:00Z   \n",
       "4     Glarus      517m  2017-01-01T00:00:00Z  2022-11-10T17:00:00Z   \n",
       "5      Vaduz      457m  2017-01-01T00:00:00Z  2022-11-10T17:00:00Z   \n",
       "\n",
       "   Horizontal Distance  Vertical Distance  Effective Distance      lat  \\\n",
       "0                 -999               -999                -999  47.1275   \n",
       "1                 -999               -999                -999  47.0346   \n",
       "2                 -999               -999                -999  47.0166   \n",
       "3                 -999               -999                -999  46.9237   \n",
       "4                 -999               -999                -999  47.0346   \n",
       "5                 -999               -999                -999  47.1275   \n",
       "\n",
       "       lon  \n",
       "0  9.51758  \n",
       "1  9.06696  \n",
       "2  9.50259  \n",
       "3  9.17535  \n",
       "4  9.06696  \n",
       "5  9.51758  "
      ]
     },
     "execution_count": 40,
     "metadata": {},
     "output_type": "execute_result"
    }
   ],
   "source": [
    "met"
   ]
  },
  {
   "cell_type": "code",
   "execution_count": 35,
   "metadata": {
    "tags": []
   },
   "outputs": [],
   "source": [
    "best_fitting_station = met.iloc[0]\n",
    "name_of_best_fitting_station = met.loc[0, 'Name']\n",
    "station_with_least_vertical_distance = met.iloc[abs(met['Vertical Distance']).idxmin()]"
   ]
  }
 ],
 "metadata": {
  "kernelspec": {
   "display_name": "Python 3.10.6 ('meteomatics')",
   "language": "python",
   "name": "python3"
  },
  "language_info": {
   "codemirror_mode": {
    "name": "ipython",
    "version": 3
   },
   "file_extension": ".py",
   "mimetype": "text/x-python",
   "name": "python",
   "nbconvert_exporter": "python",
   "pygments_lexer": "ipython3",
   "version": "3.10.6"
  },
  "vscode": {
   "interpreter": {
    "hash": "100740bd4a2a78dcb51f93a5cbb25c4d3970863452ae11d0c7e8a1921504f522"
   }
  }
 },
 "nbformat": 4,
 "nbformat_minor": 4
}
