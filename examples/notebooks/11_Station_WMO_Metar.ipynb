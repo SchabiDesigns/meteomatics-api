{
 "cells": [
  {
   "cell_type": "markdown",
   "metadata": {},
   "source": [
    "# Station WMO Metar"
   ]
  },
  {
   "cell_type": "markdown",
   "metadata": {},
   "source": [
    "First you have to import the meteomatics module and the datetime module"
   ]
  },
  {
   "cell_type": "code",
   "execution_count": 10,
   "metadata": {},
   "outputs": [],
   "source": [
    "import datetime as dt\n",
    "import meteomatics.api as api\n",
    "\n",
    "from __future__ import print_function"
   ]
  },
  {
   "cell_type": "markdown",
   "metadata": {},
   "source": [
    "Input here your username and password from your meteomatics profile"
   ]
  },
  {
   "cell_type": "code",
   "execution_count": 11,
   "metadata": {},
   "outputs": [],
   "source": [
    "# Opening JSON file with my credentials\n",
    "import json\n",
    "\n",
    "creds = open('mycredentials.json')\n",
    "creds = json.load(creds)\n",
    "username = creds[\"username\"]\n",
    "password = creds[\"password\"]"
   ]
  },
  {
   "cell_type": "markdown",
   "metadata": {},
   "source": [
    "Input here a startdate, an enddate and the time interval, all as datetime-objects. The interval tells you, if you get the data in hourly steps, daily steps or every five minutes in between the startdate and the enddate. Note that the enddate has to be in the past."
   ]
  },
  {
   "cell_type": "code",
   "execution_count": 12,
   "metadata": {
    "scrolled": true
   },
   "outputs": [],
   "source": [
    "startdate_station_ts = dt.datetime.utcnow().replace(day=20, month=10, hour=11, minute=0, second=0, microsecond=0)\n",
    "enddate_station_ts = startdate_station_ts + dt.timedelta(hours=8)\n",
    "interval_station_ts = dt.timedelta(minutes=5)"
   ]
  },
  {
   "cell_type": "markdown",
   "metadata": {},
   "source": [
    "Choose the parameters you want to get and put them into a list. Check here which parameters are available: https://www.meteomatics.com/en/api/available-parameters/"
   ]
  },
  {
   "cell_type": "code",
   "execution_count": 13,
   "metadata": {},
   "outputs": [],
   "source": [
    "parameters_station_ts = ['t_10m:C', 'wind_speed_10m:kmh']"
   ]
  },
  {
   "cell_type": "markdown",
   "metadata": {},
   "source": [
    "Input here 'mix-obs' to get observational data."
   ]
  },
  {
   "cell_type": "code",
   "execution_count": 14,
   "metadata": {},
   "outputs": [],
   "source": [
    "model_station_ts = 'mix-obs'"
   ]
  },
  {
   "cell_type": "markdown",
   "metadata": {},
   "source": [
    "Input here the ID of the station(s) you want to get. You can find the ID through \"Find Stations\". If you have no indications for a certain station-type, just write None."
   ]
  },
  {
   "cell_type": "code",
   "execution_count": 15,
   "metadata": {},
   "outputs": [],
   "source": [
    "wmo_stations = [\"66870\"]\n",
    "metar_stations = None #['EDDF']\n",
    "mch_stations = None #['SCU']"
   ]
  },
  {
   "cell_type": "markdown",
   "metadata": {},
   "source": [
    "In the following, the request will start. If there is an error in the request as for example a wrong parameter or a date that doesn't exist, you get a message. Note, that this model 'mix-obs' is not available for the 'python-community' trial account."
   ]
  },
  {
   "cell_type": "code",
   "execution_count": 16,
   "metadata": {
    "scrolled": true
   },
   "outputs": [
    {
     "name": "stdout",
     "output_type": "stream",
     "text": [
      "station wmo + metar ids timeseries:\n",
      "                                      t_10m:C  wind_speed_10m:kmh\n",
      "station_id validdate                                             \n",
      "wmo_66870  2022-10-20 11:00:00+00:00      NaN                 NaN\n",
      "           2022-10-20 11:05:00+00:00      NaN                 NaN\n",
      "           2022-10-20 11:10:00+00:00      NaN                 NaN\n",
      "           2022-10-20 11:15:00+00:00      NaN                 NaN\n",
      "           2022-10-20 11:20:00+00:00      NaN                 NaN\n"
     ]
    }
   ],
   "source": [
    "print(\"station wmo + metar ids timeseries:\")\n",
    "try:\n",
    "    df_sd_ids = api.query_station_timeseries(startdate_station_ts, enddate_station_ts, interval_station_ts,\n",
    "                                             parameters_station_ts, username, password, model=model_station_ts,\n",
    "                                             wmo_ids=wmo_stations, metar_ids=metar_stations, mch_ids=mch_stations,\n",
    "                                             on_invalid='fill_with_invalid', request_type=\"POST\", temporal_interpolation='none')\n",
    "    print(df_sd_ids.head())\n",
    "except Exception as e:\n",
    "    print(\"Failed, the exception is {}\".format(e))"
   ]
  },
  {
   "cell_type": "markdown",
   "metadata": {},
   "source": [
    "As output you get a pandas dataframe with the station-id and the date in the index.\n",
    "\n",
    "![11_station_wmo_metar_output](api_demo_images/11_station_wmo_metar_output.png)"
   ]
  }
 ],
 "metadata": {
  "kernelspec": {
   "display_name": "Python 3.10.6 ('meteomatics')",
   "language": "python",
   "name": "python3"
  },
  "language_info": {
   "codemirror_mode": {
    "name": "ipython",
    "version": 3
   },
   "file_extension": ".py",
   "mimetype": "text/x-python",
   "name": "python",
   "nbconvert_exporter": "python",
   "pygments_lexer": "ipython3",
   "version": "3.10.6"
  },
  "vscode": {
   "interpreter": {
    "hash": "100740bd4a2a78dcb51f93a5cbb25c4d3970863452ae11d0c7e8a1921504f522"
   }
  }
 },
 "nbformat": 4,
 "nbformat_minor": 4
}
